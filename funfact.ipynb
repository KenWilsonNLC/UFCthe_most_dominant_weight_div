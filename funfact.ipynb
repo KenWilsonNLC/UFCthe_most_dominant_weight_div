{
 "cells": [
  {
   "cell_type": "code",
   "execution_count": null,
   "id": "94b996ff-5155-46ce-bb47-5ab02a0e8b56",
   "metadata": {},
   "outputs": [],
   "source": [
    "import pandas as pd\n",
    "import matplotlib.pyplot as plt\n",
    "import seaborn as sns"
   ]
  },
  {
   "cell_type": "code",
   "execution_count": null,
   "id": "a37eab4b-824a-4079-877f-246e7b69056a",
   "metadata": {},
   "outputs": [],
   "source": [
    "the_odds = pd.read_csv('C:/Users/kite7/Desktop/NSS Course Materials/PYTHON/capstone/ufc-master.csv')"
   ]
  },
  {
   "cell_type": "code",
   "execution_count": null,
   "id": "a5d1ab4b-5ef5-4942-b94e-fa1e4120841b",
   "metadata": {},
   "outputs": [],
   "source": [
    "the_odds"
   ]
  },
  {
   "cell_type": "code",
   "execution_count": null,
   "id": "5a18dae8-fb1f-49ca-a7ed-d648fe53585a",
   "metadata": {},
   "outputs": [],
   "source": []
  },
  {
   "cell_type": "code",
   "execution_count": null,
   "id": "f86eb9cc-8990-4911-9cbe-ae1f8a39b85b",
   "metadata": {},
   "outputs": [],
   "source": [
    "filter = the_odds[the_odds['location'] == 'Las Vegas, Nevada, USA']\n",
    "\n",
    "red_wins = (filter['Winner'] == 'Red').sum()\n",
    "\n",
    "total_rows = filter.shape[0]\n",
    "\n",
    "proportion_red_wins = red_wins / total_rows if total_rows > 0 else 0\n",
    "\n",
    "print(f\"Proportion of 'Red' wins in Las Vegas, Nevada, USA: {proportion_red_wins:.2%}\")"
   ]
  },
  {
   "cell_type": "code",
   "execution_count": null,
   "id": "33255bd0-ee52-4c66-91bb-3e9526e6c421",
   "metadata": {},
   "outputs": [],
   "source": [
    "filter = the_odds[the_odds['location'] == 'Broomfield, Colorado, USA']\n",
    "\n",
    "red_wins = (filter['Winner'] == 'Red').sum()\n",
    "\n",
    "total_rows = filter.shape[0]\n",
    "\n",
    "proportion_red_wins = red_wins / total_rows if total_rows > 0 else 0\n",
    "\n",
    "print(f\"Proportion of 'Red' wins in Broomfield, Colorado, USA: {proportion_red_wins:.2%}\")"
   ]
  },
  {
   "cell_type": "code",
   "execution_count": null,
   "id": "d3d6a69a-a28a-4198-92fd-1d004374bcb4",
   "metadata": {},
   "outputs": [],
   "source": [
    "filter = the_odds[the_odds['location'] == 'Nashville, Tennessee, USA']\n",
    "\n",
    "red_wins = (filter['Winner'] == 'Red').sum()\n",
    "\n",
    "total_rows = filter.shape[0]\n",
    "\n",
    "proportion_red_wins = red_wins / total_rows if total_rows > 0 else 0\n",
    "\n",
    "print(f\"Proportion of 'Red' wins in Nashville, Tennessee, USA: {proportion_red_wins:.2%}\")"
   ]
  },
  {
   "cell_type": "code",
   "execution_count": null,
   "id": "ed48a77a-ad05-4151-a846-26334a74b026",
   "metadata": {},
   "outputs": [],
   "source": []
  },
  {
   "cell_type": "code",
   "execution_count": null,
   "id": "6078c0d5-cec1-48e7-8fd3-878da039e421",
   "metadata": {},
   "outputs": [],
   "source": [
    "filtered_df = the_odds[the_odds['R_odds'] > the_odds['B_odds']]\n",
    "\n",
    "red_wins = (filtered_df['Winner'] == 'Blue').sum()\n",
    "\n",
    "total_rows = filtered_df.shape[0]\n",
    "\n",
    "proportion_red_wins = red_wins / total_rows if total_rows > 0 else 0\n",
    "\n",
    "print(f\"Oddsmakers are right: {proportion_red_wins:.2%}\")"
   ]
  },
  {
   "cell_type": "code",
   "execution_count": null,
   "id": "c92bfa16-3bd6-4f59-946a-3bd648c40a11",
   "metadata": {},
   "outputs": [],
   "source": []
  }
 ],
 "metadata": {
  "kernelspec": {
   "display_name": "Python 3 (ipykernel)",
   "language": "python",
   "name": "python3"
  },
  "language_info": {
   "codemirror_mode": {
    "name": "ipython",
    "version": 3
   },
   "file_extension": ".py",
   "mimetype": "text/x-python",
   "name": "python",
   "nbconvert_exporter": "python",
   "pygments_lexer": "ipython3",
   "version": "3.11.7"
  }
 },
 "nbformat": 4,
 "nbformat_minor": 5
}
