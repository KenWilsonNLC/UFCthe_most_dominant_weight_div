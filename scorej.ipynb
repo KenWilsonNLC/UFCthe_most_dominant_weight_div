{
 "cells": [
  {
   "cell_type": "code",
   "execution_count": null,
   "id": "4cf8f453-7e78-4cc1-9777-69817547e7a2",
   "metadata": {},
   "outputs": [],
   "source": [
    "import pandas as pd\n",
    "import matplotlib.pyplot as plt\n",
    "import seaborn as sns"
   ]
  },
  {
   "cell_type": "code",
   "execution_count": null,
   "id": "20078e68-972f-4dcf-99cb-76efe0afd4a0",
   "metadata": {},
   "outputs": [],
   "source": [
    "ufc_tko_info = pd.read_csv('C:/Users/kite7/Desktop/NSS Course Materials/PYTHON/capstone/ufc_merged.csv')"
   ]
  },
  {
   "cell_type": "code",
   "execution_count": null,
   "id": "46d3f386-ea3d-41fc-8bb1-2161268f8384",
   "metadata": {},
   "outputs": [],
   "source": [
    "ufc_tko_info"
   ]
  },
  {
   "cell_type": "code",
   "execution_count": null,
   "id": "9f228b00-354b-4791-8083-c1d10b09b3a9",
   "metadata": {},
   "outputs": [],
   "source": [
    "scoring_info = ufc_tko_info[['Division', '(T)KOs Percentages','Submissions Percentages', 'Total Split Decision Percentages']]"
   ]
  },
  {
   "cell_type": "code",
   "execution_count": null,
   "id": "42fa20b4-a1f2-4171-9838-c30215b86855",
   "metadata": {},
   "outputs": [],
   "source": [
    "scoring_info"
   ]
  },
  {
   "cell_type": "code",
   "execution_count": null,
   "id": "b260ecf2-e73b-4070-9fe7-de6522220458",
   "metadata": {},
   "outputs": [],
   "source": [
    "TKO_rank_score = scoring_info[['Division', '(T)KOs Percentages']]"
   ]
  },
  {
   "cell_type": "code",
   "execution_count": null,
   "id": "38b70d46-a123-41c6-be00-f5990c008e20",
   "metadata": {},
   "outputs": [],
   "source": [
    "TKO_rank_score"
   ]
  },
  {
   "cell_type": "code",
   "execution_count": null,
   "id": "75fa2668-3d06-4f5b-b476-0db7d3807773",
   "metadata": {},
   "outputs": [],
   "source": [
    "TKO_rank_score['TKO rank'] = TKO_rank_score['(T)KOs Percentages'].rank(ascending=False)\n",
    "\n",
    "TKO_rank_score['TKO rank'] = TKO_rank_score['TKO rank'].astype(int)"
   ]
  },
  {
   "cell_type": "code",
   "execution_count": null,
   "id": "1cd99a71-6ffe-466b-a357-5f9abe124de8",
   "metadata": {},
   "outputs": [],
   "source": [
    "TKO_rank_score"
   ]
  },
  {
   "cell_type": "code",
   "execution_count": null,
   "id": "57ecc76d-6cb8-4a44-817a-eac4b5ba1fb2",
   "metadata": {},
   "outputs": [],
   "source": [
    "TKO_rank_score['TKO rank'] = TKO_rank_score['(T)KOs Percentages'].rank(ascending=False)\n",
    "\n",
    "TKO_rank_score['TKO rank'] = TKO_rank_score['TKO rank'].astype(int)\n",
    "\n",
    "max_rank = TKO_rank_score['TKO rank'].max()\n",
    "TKO_rank_score['TKO score'] = max_rank + 1 - TKO_rank_score['TKO rank']"
   ]
  },
  {
   "cell_type": "code",
   "execution_count": null,
   "id": "5a073652-bc3c-4d19-925c-5bf6e23c3e42",
   "metadata": {},
   "outputs": [],
   "source": [
    "TKO_rank_score"
   ]
  },
  {
   "cell_type": "code",
   "execution_count": null,
   "id": "f5f43114-6636-469e-b475-892c780d991d",
   "metadata": {},
   "outputs": [],
   "source": [
    "print(\"Columns in the 'ufc_tko_info' DataFrame:\")\n",
    "print(ufc_tko_info.columns)"
   ]
  },
  {
   "cell_type": "code",
   "execution_count": null,
   "id": "f32910c5-6bd4-474e-9dbd-299927cc52e3",
   "metadata": {},
   "outputs": [],
   "source": []
  },
  {
   "cell_type": "code",
   "execution_count": null,
   "id": "5c5a714f-9ff9-4c6e-8157-c2d7bcbb14f9",
   "metadata": {},
   "outputs": [],
   "source": [
    "SUB_rank_score = scoring_info[['Division', 'Submissions Percentages']]"
   ]
  },
  {
   "cell_type": "code",
   "execution_count": null,
   "id": "638eb2d2-466f-4071-ae51-21d8583b5c2f",
   "metadata": {},
   "outputs": [],
   "source": [
    "SUB_rank_score"
   ]
  },
  {
   "cell_type": "code",
   "execution_count": null,
   "id": "6b78d51c-6d12-4604-9844-924d9979f339",
   "metadata": {},
   "outputs": [],
   "source": [
    "SUB_rank_score['SUB rank'] = SUB_rank_score['Submissions Percentages'].rank(ascending=False)\n",
    "\n",
    "SUB_rank_score['SUB rank'] = SUB_rank_score['SUB rank'].astype(int)"
   ]
  },
  {
   "cell_type": "code",
   "execution_count": null,
   "id": "b92b7430-7343-43d0-b3c1-f215b117e2b5",
   "metadata": {},
   "outputs": [],
   "source": [
    "SUB_rank_score"
   ]
  },
  {
   "cell_type": "code",
   "execution_count": null,
   "id": "7c332494-28f2-4a3b-b662-14c7ea4e0b8d",
   "metadata": {},
   "outputs": [],
   "source": [
    "SUB_rank_score['SUB rank'] = SUB_rank_score['Submissions Percentages'].rank(ascending=False)\n",
    "\n",
    "SUB_rank_score['SUB rank'] = SUB_rank_score['SUB rank'].astype(int)\n",
    "\n",
    "max_rank = SUB_rank_score['SUB rank'].max()\n",
    "SUB_rank_score['SUB score'] = max_rank + 1 - SUB_rank_score['SUB rank']"
   ]
  },
  {
   "cell_type": "code",
   "execution_count": null,
   "id": "30be44e6-db5b-47e7-aad0-042cf70b34e2",
   "metadata": {},
   "outputs": [],
   "source": [
    "SUB_rank_score"
   ]
  },
  {
   "cell_type": "code",
   "execution_count": null,
   "id": "faed9b12-a666-4d29-bc64-9c679b859931",
   "metadata": {},
   "outputs": [],
   "source": [
    "Split_rank_score = scoring_info[['Division', 'Total Split Decision Percentages']]"
   ]
  },
  {
   "cell_type": "code",
   "execution_count": null,
   "id": "70a0b6da-3546-497e-ac17-28603680827d",
   "metadata": {},
   "outputs": [],
   "source": [
    "Split_rank_score"
   ]
  },
  {
   "cell_type": "code",
   "execution_count": null,
   "id": "afef1f97-5415-4149-8f78-e4dff6ebe564",
   "metadata": {},
   "outputs": [],
   "source": [
    "Split_rank_score['Split rank'] = Split_rank_score['Total Split Decision Percentages'].rank(ascending=False)\n",
    "\n",
    "Split_rank_score['Split rank'] = Split_rank_score['Split rank'].astype(int)"
   ]
  },
  {
   "cell_type": "code",
   "execution_count": null,
   "id": "eacf3574-3637-4da9-a483-ff13ad965bdf",
   "metadata": {},
   "outputs": [],
   "source": [
    "Split_rank_score"
   ]
  },
  {
   "cell_type": "code",
   "execution_count": null,
   "id": "d40eb734-77dd-4ef7-a1a9-3196ed8c65b6",
   "metadata": {},
   "outputs": [],
   "source": [
    "Split_rank_score['Split rank'] = Split_rank_score['Total Split Decision Percentages'].rank(ascending=False)\n",
    "\n",
    "Split_rank_score['Split rank'] = Split_rank_score['Split rank'].astype(int)\n",
    "\n",
    "max_rank = Split_rank_score['Split rank'].max()\n",
    "Split_rank_score['Split score'] = max_rank + 1 - Split_rank_score['Split rank']"
   ]
  },
  {
   "cell_type": "code",
   "execution_count": null,
   "id": "121491ba-eab9-4b39-8a2b-2d86cbc747fe",
   "metadata": {},
   "outputs": [],
   "source": [
    "Split_rank_score"
   ]
  },
  {
   "cell_type": "code",
   "execution_count": null,
   "id": "12ef663a-cb98-4e82-aac8-989085f7d087",
   "metadata": {},
   "outputs": [],
   "source": []
  },
  {
   "cell_type": "code",
   "execution_count": null,
   "id": "ea4ea5e1-0b0b-479d-8444-d87d93a36633",
   "metadata": {},
   "outputs": [],
   "source": []
  },
  {
   "cell_type": "code",
   "execution_count": null,
   "id": "915a99d0-ad03-4317-b529-f944175b6cf1",
   "metadata": {},
   "outputs": [],
   "source": [
    "fotnandb = pd.read_csv('C:/Users/kite7/Desktop/NSS Course Materials/PYTHON/capstone/FOTN.csv')"
   ]
  },
  {
   "cell_type": "code",
   "execution_count": null,
   "id": "04763ed4-6f7d-4220-a125-6518d091c5b9",
   "metadata": {},
   "outputs": [],
   "source": [
    "fotnandb = fotnandb[['Division', 'Percent of bouts receiving FOTN or Perf bonus 2022']]"
   ]
  },
  {
   "cell_type": "code",
   "execution_count": null,
   "id": "82b8be66-caea-4371-a8c2-52c3e9e9680e",
   "metadata": {},
   "outputs": [],
   "source": [
    "fotnandb"
   ]
  },
  {
   "cell_type": "code",
   "execution_count": null,
   "id": "2babd1e0-de9e-4198-b3ff-e4f519242d4d",
   "metadata": {},
   "outputs": [],
   "source": [
    "fotnandb = fotnandb.dropna()"
   ]
  },
  {
   "cell_type": "code",
   "execution_count": null,
   "id": "c70bf170-6eb8-44af-89fe-a7270677c579",
   "metadata": {},
   "outputs": [],
   "source": [
    "fotnandb"
   ]
  },
  {
   "cell_type": "code",
   "execution_count": null,
   "id": "e0a320cf-e8e5-4968-8276-aa0f9acd47b6",
   "metadata": {},
   "outputs": [],
   "source": [
    "fotnandb['FOTN rank'] = fotnandb['Percent of bouts receiving FOTN or Perf bonus 2022'].rank(ascending=False)\n",
    "\n",
    "fotnandb['FOTN rank'] = fotnandb['FOTN rank'].astype(int)"
   ]
  },
  {
   "cell_type": "code",
   "execution_count": null,
   "id": "b8c963f1-aa1f-478c-b0ef-cff0fa0f5bd8",
   "metadata": {},
   "outputs": [],
   "source": [
    "fotnandb"
   ]
  },
  {
   "cell_type": "code",
   "execution_count": null,
   "id": "5fa9f54e-abcd-4ea4-b599-50c240736316",
   "metadata": {},
   "outputs": [],
   "source": [
    "fotnandb['FOTN rank'] = fotnandb['Percent of bouts receiving FOTN or Perf bonus 2022'].rank(ascending=False)\n",
    "\n",
    "fotnandb['FOTN rank'] = fotnandb['FOTN rank'].astype(int)\n",
    "\n",
    "max_rank = fotnandb['FOTN rank'].max()\n",
    "fotnandb['FOTN score'] = max_rank + 1 - fotnandb['FOTN rank']"
   ]
  },
  {
   "cell_type": "code",
   "execution_count": null,
   "id": "31dfa5c7-644e-492a-ac3b-20cb802cbb97",
   "metadata": {},
   "outputs": [],
   "source": [
    "fotnandb"
   ]
  },
  {
   "cell_type": "code",
   "execution_count": null,
   "id": "b3cec047-2269-403d-9968-283eb3d73ba6",
   "metadata": {},
   "outputs": [],
   "source": [
    "merged_per = pd.merge(TKO_rank_score, SUB_rank_score, on='Division', how='outer')\n",
    "merged_per = pd.merge(merged_per, Split_rank_score, on='Division', how='outer')"
   ]
  },
  {
   "cell_type": "code",
   "execution_count": null,
   "id": "98f85c28-e2fc-46e9-9459-d378a4840b44",
   "metadata": {},
   "outputs": [],
   "source": [
    "merged_per"
   ]
  },
  {
   "cell_type": "code",
   "execution_count": null,
   "id": "649c60ba-d91a-4e7d-a39c-fc98dd754add",
   "metadata": {},
   "outputs": [],
   "source": [
    "merged_per['total'] = merged_per[['TKO score', 'SUB score', 'Split score']].sum(axis=1)"
   ]
  },
  {
   "cell_type": "code",
   "execution_count": null,
   "id": "5757ca5f-80b0-499b-9aad-9227f48e6db8",
   "metadata": {},
   "outputs": [],
   "source": [
    "merged_per"
   ]
  },
  {
   "cell_type": "code",
   "execution_count": null,
   "id": "70fb911e-54e2-44a6-93e6-895e6d01da74",
   "metadata": {},
   "outputs": [],
   "source": [
    "merged_per['Division'] = merged_per['Division'].str.replace(' ', '', regex=False)"
   ]
  },
  {
   "cell_type": "code",
   "execution_count": null,
   "id": "dffd0801-ea0c-4837-be10-ae3e4a8d58f0",
   "metadata": {},
   "outputs": [],
   "source": [
    "merged_per['Division'] = merged_per['Division'].str.lower()"
   ]
  },
  {
   "cell_type": "code",
   "execution_count": null,
   "id": "c4aafd9a-e60e-4aba-a520-beeb46571af2",
   "metadata": {},
   "outputs": [],
   "source": [
    "merged_per"
   ]
  },
  {
   "cell_type": "code",
   "execution_count": null,
   "id": "7c91c1b0-c673-4de1-92f6-0c89f9283cc7",
   "metadata": {},
   "outputs": [],
   "source": [
    "fotnandb['Division'] = fotnandb['Division'].str.replace(' ', '', regex=False)"
   ]
  },
  {
   "cell_type": "code",
   "execution_count": null,
   "id": "c1fa407b-65a0-4941-a36c-ed966ee97dc2",
   "metadata": {},
   "outputs": [],
   "source": [
    "fotnandb['Division'] = fotnandb['Division'].str.lower()"
   ]
  },
  {
   "cell_type": "code",
   "execution_count": null,
   "id": "e73b8d48-835f-47f6-9be9-7e36ff4f1391",
   "metadata": {},
   "outputs": [],
   "source": [
    "fotnandb"
   ]
  },
  {
   "cell_type": "code",
   "execution_count": null,
   "id": "8b6774cb-f4fa-4dfa-af52-19664b5543e5",
   "metadata": {},
   "outputs": [],
   "source": [
    "fotnandb['Division'] = fotnandb['Division'].replace('womenfiyweight', 'womenflyweight')"
   ]
  },
  {
   "cell_type": "code",
   "execution_count": null,
   "id": "c8c36b2d-8d79-4f90-b0da-66ea29f3692f",
   "metadata": {},
   "outputs": [],
   "source": [
    "fotnandb"
   ]
  },
  {
   "cell_type": "code",
   "execution_count": null,
   "id": "4978c4cf-44fb-49c1-a4af-76e0f14fbdfa",
   "metadata": {},
   "outputs": [],
   "source": [
    "totals = merged_per[['Division', 'total']]"
   ]
  },
  {
   "cell_type": "code",
   "execution_count": null,
   "id": "aa0fed0d-c44e-4921-9a4a-4682fdc3e69c",
   "metadata": {},
   "outputs": [],
   "source": [
    "totals"
   ]
  },
  {
   "cell_type": "code",
   "execution_count": null,
   "id": "273a2775-9b7b-461a-8f2a-e93b417d35c0",
   "metadata": {},
   "outputs": [],
   "source": [
    "merged_per_f = pd.merge(merged_per, fotnandb, on='Division', how='outer')"
   ]
  },
  {
   "cell_type": "code",
   "execution_count": null,
   "id": "feab27d0-8167-48f9-9c70-aa9aad9a60d5",
   "metadata": {},
   "outputs": [],
   "source": [
    "merged_per_f"
   ]
  },
  {
   "cell_type": "code",
   "execution_count": null,
   "id": "8e5bb482-7dc7-4c71-94d3-75bb5cc42d5a",
   "metadata": {},
   "outputs": [],
   "source": [
    "merged_per_f['Total Score'] = merged_per_f['total'].fillna(0) + merged_per_f['FOTN score'].fillna(0)"
   ]
  },
  {
   "cell_type": "code",
   "execution_count": null,
   "id": "babffb7b-6593-4fb9-9631-9e8df2457045",
   "metadata": {},
   "outputs": [],
   "source": [
    "merged_per_f"
   ]
  },
  {
   "cell_type": "code",
   "execution_count": null,
   "id": "df903e87-de5b-4c7e-b9f5-b80687a589e7",
   "metadata": {},
   "outputs": [],
   "source": [
    "merged_per_f.sort_values(by='Total Score', ascending=False, inplace=True)"
   ]
  },
  {
   "cell_type": "code",
   "execution_count": null,
   "id": "b6e86377-7a74-43d1-a65f-255b6e8d0f52",
   "metadata": {},
   "outputs": [],
   "source": [
    "merged_per_f"
   ]
  },
  {
   "cell_type": "code",
   "execution_count": null,
   "id": "315f65a4-d332-41b6-b787-45b9112c6e3c",
   "metadata": {},
   "outputs": [],
   "source": [
    "merged_per_f.to_csv('score_work.csv', index=False)"
   ]
  },
  {
   "cell_type": "code",
   "execution_count": null,
   "id": "02b4e54e-582f-454f-9597-524d379a85cf",
   "metadata": {},
   "outputs": [],
   "source": []
  }
 ],
 "metadata": {
  "kernelspec": {
   "display_name": "Python 3 (ipykernel)",
   "language": "python",
   "name": "python3"
  },
  "language_info": {
   "codemirror_mode": {
    "name": "ipython",
    "version": 3
   },
   "file_extension": ".py",
   "mimetype": "text/x-python",
   "name": "python",
   "nbconvert_exporter": "python",
   "pygments_lexer": "ipython3",
   "version": "3.11.7"
  }
 },
 "nbformat": 4,
 "nbformat_minor": 5
}
