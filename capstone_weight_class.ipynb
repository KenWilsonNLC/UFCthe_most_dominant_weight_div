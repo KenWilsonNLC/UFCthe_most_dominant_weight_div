{
 "cells": [
  {
   "cell_type": "code",
   "execution_count": null,
   "id": "ffcc6220-648a-445d-8e4b-913bad7fe99c",
   "metadata": {},
   "outputs": [],
   "source": [
    "import pandas as pd\n",
    "import matplotlib.pyplot as plt\n",
    "import seaborn as sns\n",
    "import re\n",
    "import requests\n",
    "from bs4 import BeautifulSoup"
   ]
  },
  {
   "cell_type": "code",
   "execution_count": null,
   "id": "bd526087-7ad0-4007-8355-880e7ac351ce",
   "metadata": {},
   "outputs": [],
   "source": [
    "url = 'https://www.fightmatrix.com/ufc-records/ufc-fight-outcomes-by-weight-class/'\n",
    "\n",
    "response = requests.get(url)\n",
    "response.raise_for_status()\n",
    "\n",
    "soup = BeautifulSoup(response.text, 'html.parser')\n",
    "\n",
    "table = soup.find('table')\n",
    "\n",
    "headers = []\n",
    "header_row = table.find('tr')\n",
    "if header_row:\n",
    "    header_columns = header_row.find_all('th')\n",
    "    if not header_columns:\n",
    "        header_columns = header_row.find_all('td')\n",
    "    headers = [header.get_text(strip=True) for header in header_columns]\n",
    "\n",
    "rows = []\n",
    "for row in table.find_all('tr')[1:]:\n",
    "    columns = row.find_all('td')\n",
    "    row_data = [col.get_text(strip=True) for col in columns]\n",
    "    if row_data:\n",
    "        rows.append(row_data)\n",
    "\n",
    "UFC_Fight_Outcomes_by_wc = pd.DataFrame(rows, columns=headers)"
   ]
  },
  {
   "cell_type": "code",
   "execution_count": null,
   "id": "c65e6667-b13d-4cab-be42-a4064d71f886",
   "metadata": {},
   "outputs": [],
   "source": [
    "UFC_Fight_Outcomes_by_wc"
   ]
  },
  {
   "cell_type": "code",
   "execution_count": null,
   "id": "b1339215-213e-46be-837e-3dfaecd12445",
   "metadata": {},
   "outputs": [],
   "source": [
    "rename_mapping = {\n",
    "    'Total Fights': 'Total Fights',\n",
    "    '(T)KOs': '(T)KOs Totals',\n",
    "    'Submissions': 'Submissions Totals',\n",
    "    'Total Decisions': 'Total Decisions',\n",
    "    'No Contests': 'No Contests Total',\n",
    "    'DQs': 'DQs Totals'\n",
    "}\n",
    "\n",
    "UFC_Fight_Outcomes_by_wc.rename(columns=rename_mapping, inplace=True)"
   ]
  },
  {
   "cell_type": "code",
   "execution_count": null,
   "id": "b672336b-5e96-402a-bc85-1f2e810362ae",
   "metadata": {},
   "outputs": [],
   "source": [
    "UFC_Fight_Outcomes_by_wc"
   ]
  },
  {
   "cell_type": "code",
   "execution_count": null,
   "id": "c4aab180-7802-476b-8c20-19dd9723f775",
   "metadata": {},
   "outputs": [],
   "source": [
    "url = 'https://www.fightmatrix.com/ufc-records/ufc-fight-outcomes-by-weight-class/'\n",
    "\n",
    "response = requests.get(url)\n",
    "response.raise_for_status()\n",
    "\n",
    "soup = BeautifulSoup(response.text, 'html.parser')\n",
    "\n",
    "tables = soup.find_all('table')\n",
    "\n",
    "if len(tables) < 2:\n",
    "    raise ValueError(\"Less than two tables found on the webpage\")\n",
    "\n",
    "table = tables[1]\n",
    "\n",
    "headers = []\n",
    "header_row = table.find('tr')\n",
    "if header_row:\n",
    "    header_columns = header_row.find_all('th')\n",
    "    if not header_columns:\n",
    "        header_columns = header_row.find_all('td')\n",
    "    headers = [header.get_text(strip=True) for header in header_columns]\n",
    "\n",
    "rows = []\n",
    "for row in table.find_all('tr')[1:]:\n",
    "    columns = row.find_all('td')\n",
    "    row_data = [col.get_text(strip=True) for col in columns]\n",
    "    if row_data:\n",
    "        rows.append(row_data)\n",
    "\n",
    "Fight_Outcome_Percentages = pd.DataFrame(rows, columns=headers)"
   ]
  },
  {
   "cell_type": "code",
   "execution_count": null,
   "id": "1c788262-8227-4344-a1f5-c458d25c18a4",
   "metadata": {},
   "outputs": [],
   "source": [
    "Fight_Outcome_Percentages"
   ]
  },
  {
   "cell_type": "code",
   "execution_count": null,
   "id": "793af345-46c4-4941-b740-0728a69d9d4c",
   "metadata": {},
   "outputs": [],
   "source": [
    "rename_mapping2 = {\n",
    "    'Total Fights': 'Total Fights',\n",
    "    '(T)KOs': '(T)KOs Percentages',\n",
    "    'Submissions': 'Submissions Percentages',\n",
    "    'Total Decisions': 'Total Decisions Percentages',\n",
    "    'No Contests': 'No Contests Percentages',\n",
    "    'DQs': 'DQs Percentages'\n",
    "}\n",
    "\n",
    "Fight_Outcome_Percentages.rename(columns=rename_mapping2, inplace=True)"
   ]
  },
  {
   "cell_type": "code",
   "execution_count": null,
   "id": "47ce275b-bac0-4bfb-aa8e-6c5b1fe3f09f",
   "metadata": {},
   "outputs": [],
   "source": [
    "Fight_Outcome_Percentages"
   ]
  },
  {
   "cell_type": "code",
   "execution_count": null,
   "id": "018d8fe2-16b1-45e6-823c-f439170a7512",
   "metadata": {},
   "outputs": [],
   "source": [
    "url = 'https://www.fightmatrix.com/ufc-records/ufc-fight-outcomes-by-weight-class/'\n",
    "\n",
    "response = requests.get(url)\n",
    "response.raise_for_status()\n",
    "\n",
    "soup = BeautifulSoup(response.text, 'html.parser')\n",
    "\n",
    "tables = soup.find_all('table')\n",
    "\n",
    "if len(tables) < 3:\n",
    "    raise ValueError(\"Less than three tables found on the webpage\")\n",
    "\n",
    "table = tables[2]\n",
    "\n",
    "headers = []\n",
    "header_row = table.find('tr')\n",
    "if header_row:\n",
    "    header_columns = header_row.find_all('th')\n",
    "    if not header_columns:\n",
    "        header_columns = header_row.find_all('td')\n",
    "    headers = [header.get_text(strip=True) for header in header_columns]\n",
    "\n",
    "rows = []\n",
    "for row in table.find_all('tr')[1:]:\n",
    "    columns = row.find_all('td')\n",
    "    row_data = [col.get_text(strip=True) for col in columns]\n",
    "    if row_data:\n",
    "        rows.append(row_data)\n",
    "\n",
    "Decision_Types_Breakdown = pd.DataFrame(rows, columns=headers)"
   ]
  },
  {
   "cell_type": "code",
   "execution_count": null,
   "id": "15a50e5c-7900-4ade-a5f4-7e1cfd1b1cd4",
   "metadata": {},
   "outputs": [],
   "source": [
    "Decision_Types_Breakdown"
   ]
  },
  {
   "cell_type": "code",
   "execution_count": null,
   "id": "9eacb426-c5ac-40dd-a256-30f039089b37",
   "metadata": {},
   "outputs": [],
   "source": [
    "rename_mapping3 = {\n",
    "    'Total': 'Total Fight Decisions',\n",
    "    'Unanimous': 'Total Unanimous Decisions',\n",
    "    'Split': 'Total Split Decisions',\n",
    "    'Majority': 'Total Majority Decisions',\n",
    "    'Draws': 'Total Draws',\n",
    "    'Unknown': 'Total Unknown'\n",
    "}\n",
    "\n",
    "Decision_Types_Breakdown.rename(columns=rename_mapping3, inplace=True)"
   ]
  },
  {
   "cell_type": "code",
   "execution_count": null,
   "id": "1a58b644-f5f2-4f3a-b8f4-4374c4e18c79",
   "metadata": {},
   "outputs": [],
   "source": [
    "Decision_Types_Breakdown"
   ]
  },
  {
   "cell_type": "code",
   "execution_count": null,
   "id": "56c2dac6-c43f-427d-a231-88580b9a0789",
   "metadata": {},
   "outputs": [],
   "source": [
    "url = 'https://www.fightmatrix.com/ufc-records/ufc-fight-outcomes-by-weight-class/'\n",
    "\n",
    "response = requests.get(url)\n",
    "response.raise_for_status()\n",
    "\n",
    "soup = BeautifulSoup(response.text, 'html.parser')\n",
    "\n",
    "tables = soup.find_all('table')\n",
    "\n",
    "if len(tables) < 4:\n",
    "    raise ValueError(\"Less than four tables found on the webpage\")\n",
    "\n",
    "table = tables[3]\n",
    "\n",
    "headers = []\n",
    "header_row = table.find('tr')\n",
    "if header_row:\n",
    "    header_columns = header_row.find_all('th')\n",
    "    if not header_columns:\n",
    "        header_columns = header_row.find_all('td')\n",
    "    headers = [header.get_text(strip=True) for header in header_columns]\n",
    "\n",
    "rows = []\n",
    "for row in table.find_all('tr')[1:]:\n",
    "    columns = row.find_all('td')\n",
    "    row_data = [col.get_text(strip=True) for col in columns]\n",
    "    if row_data:\n",
    "        rows.append(row_data)\n",
    "\n",
    "Decision_Type_Percentages = pd.DataFrame(rows, columns=headers)"
   ]
  },
  {
   "cell_type": "code",
   "execution_count": null,
   "id": "53dacdee-f6e8-4ac3-be0d-da7625352a7d",
   "metadata": {},
   "outputs": [],
   "source": [
    "Decision_Type_Percentages"
   ]
  },
  {
   "cell_type": "code",
   "execution_count": null,
   "id": "db1b245d-3683-4e4e-b43e-4ad03f3bebec",
   "metadata": {},
   "outputs": [],
   "source": [
    "rename_mapping4 = {\n",
    "    'Total': 'Total Fight Decision Percentages',\n",
    "    'Unanimous': 'Total Unanimous Decision Percentages',\n",
    "    'Split': 'Total Split Decision Percentages',\n",
    "    'Majority': 'Total Majority Decision Percentages',\n",
    "    'Draws': 'Total Draw Percentages',\n",
    "    'Unknown': 'Total Unknown Percentages'\n",
    "}\n",
    "\n",
    "Decision_Type_Percentages.rename(columns=rename_mapping4, inplace=True)"
   ]
  },
  {
   "cell_type": "code",
   "execution_count": null,
   "id": "6fa9a0c1-9149-4230-952a-4ed99e099c17",
   "metadata": {},
   "outputs": [],
   "source": [
    "Decision_Type_Percentages"
   ]
  },
  {
   "cell_type": "code",
   "execution_count": null,
   "id": "f5b3b5e4-0023-4bb8-a189-bd33089293d8",
   "metadata": {},
   "outputs": [],
   "source": [
    "ufc_merged = UFC_Fight_Outcomes_by_wc.merge(Fight_Outcome_Percentages, on='Division', how='outer')\n",
    "ufc_merged = ufc_merged.merge(Decision_Types_Breakdown, on='Division', how='outer')\n",
    "ufc_merged = ufc_merged.merge(Decision_Type_Percentages, on='Division', how='outer')"
   ]
  },
  {
   "cell_type": "code",
   "execution_count": null,
   "id": "22aa2136-b87e-425e-b034-e22819799bb1",
   "metadata": {},
   "outputs": [],
   "source": [
    "ufc_merged"
   ]
  },
  {
   "cell_type": "code",
   "execution_count": null,
   "id": "7c148988-c462-45e3-8893-39fe177b85ab",
   "metadata": {},
   "outputs": [],
   "source": [
    "ufc_merged.to_csv('ufc_merged.csv', index=False)"
   ]
  },
  {
   "cell_type": "code",
   "execution_count": null,
   "id": "01d58b83-2b9f-4e55-a1ab-d5b26ff49c8a",
   "metadata": {},
   "outputs": [],
   "source": []
  },
  {
   "cell_type": "code",
   "execution_count": null,
   "id": "fc0d4c95-d28d-46eb-8129-89b85bfd76a0",
   "metadata": {},
   "outputs": [],
   "source": []
  }
 ],
 "metadata": {
  "kernelspec": {
   "display_name": "Python 3 (ipykernel)",
   "language": "python",
   "name": "python3"
  },
  "language_info": {
   "codemirror_mode": {
    "name": "ipython",
    "version": 3
   },
   "file_extension": ".py",
   "mimetype": "text/x-python",
   "name": "python",
   "nbconvert_exporter": "python",
   "pygments_lexer": "ipython3",
   "version": "3.11.7"
  }
 },
 "nbformat": 4,
 "nbformat_minor": 5
}
